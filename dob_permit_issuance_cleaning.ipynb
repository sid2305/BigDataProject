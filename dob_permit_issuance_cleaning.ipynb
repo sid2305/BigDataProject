﻿{
  "metadata": {
    "name": "DOB Permit Issuance Cleaning",
    "kernelspec": {
      "language": "scala",
      "name": "spark2-scala"
    },
    "language_info": {
      "codemirror_mode": "text/x-scala",
      "file_extension": ".scala",
      "mimetype": "text/x-scala",
      "name": "scala",
      "pygments_lexer": "scala"
    }
  },
  "nbformat": 4,
  "nbformat_minor": 2,
  "cells": [
    {
      "cell_type": "code",
      "execution_count": 0,
      "metadata": {
        "autoscroll": "auto"
      },
      "outputs": [],
      "source": "%sh\npython -m pip install socrata-py\npython -m pip install openclean\npython -m pip install openclean-geo\npython -m pip install geopy"
    },
    {
      "cell_type": "code",
      "execution_count": 1,
      "metadata": {
        "autoscroll": "auto"
      },
      "outputs": [],
      "source": "%pyspark\nhistorical_dob_df \u003d spark.read.options(header\u003d\u0027true\u0027).csv(\u0027/user/CS-GY-6513/project_data/data-cityofnewyork-us.bty7-2jhb.csv\u0027)\ndob_cert_occupancy_df \u003d spark.read.options(header\u003d\u0027true\u0027).csv(\u0027/user/CS-GY-6513/project_data/data-cityofnewyork-us.bs8b-p36w.csv\u0027)\nhousing_litigations_df \u003d spark.read.options(header\u003d\u0027true\u0027).csv(\u0027/user/CS-GY-6513/project_data/data-cityofnewyork-us.59kj-x8nc.csv\u0027)\nhousing_maintenance_code_complaints_df \u003d spark.read.options(header\u003d\u0027true\u0027).csv(\u0027/user/CS-GY-6513/project_data/data-cityofnewyork-us.uwyv-629c.csv\u0027)\nhousing_maintenance_code_violations_df \u003d spark.read.options(header\u003d\u0027true\u0027).csv(\u0027/user/CS-GY-6513/project_data/data-cityofnewyork-us.wvxf-dwi5.csv\u0027)\nhistorical_dob_df.createOrReplaceTempView(\u0027historical_dob\u0027)\ndob_cert_occupancy_df.createOrReplaceTempView(\u0027dob_cert_occupancy\u0027)\nhousing_litigations_df.createOrReplaceTempView(\u0027housing_litigations\u0027)\nhousing_maintenance_code_complaints_df.createOrReplaceTempView(\u0027housing_maintenance_code_complaints\u0027)\nhousing_maintenance_code_violations_df.createOrReplaceTempView(\u0027housing_maintenance_code_violations\u0027)"
    },
    {
      "cell_type": "code",
      "execution_count": 2,
      "metadata": {
        "autoscroll": "auto"
      },
      "outputs": [],
      "source": "%pyspark\nhistorical_dob_df.select(\u0027BIN\u0027, \u0027Number\u0027, \u0027Street\u0027, \u0027Postcode\u0027, \u0027BOROUGH\u0027).show()"
    },
    {
      "cell_type": "code",
      "execution_count": 3,
      "metadata": {
        "autoscroll": "auto"
      },
      "outputs": [],
      "source": "%pyspark\nhistorical_dob_df.count()"
    },
    {
      "cell_type": "code",
      "execution_count": 4,
      "metadata": {
        "autoscroll": "auto"
      },
      "outputs": [],
      "source": "%pyspark\nhistorical_dob_df.filter(historical_dob_df[\u0027Postcode\u0027].isNull()).filter(historical_dob_df[\u0027Latitude\u0027].isNull()).count()"
    },
    {
      "cell_type": "code",
      "execution_count": 5,
      "metadata": {
        "autoscroll": "auto"
      },
      "outputs": [],
      "source": "%pyspark\nhistorical_dob_distinct_building_df \u003d historical_dob_df.select(\u0027BIN\u0027, \u0027Number\u0027, \u0027Street\u0027, \u0027Postcode\u0027, \u0027BOROUGH\u0027).distinct()"
    },
    {
      "cell_type": "code",
      "execution_count": 6,
      "metadata": {
        "autoscroll": "auto"
      },
      "outputs": [],
      "source": "%pyspark\nhistorical_dob_distinct_building_cnt \u003d historical_dob_distinct_building_df.groupby(\u0027BIN\u0027).count()"
    },
    {
      "cell_type": "code",
      "execution_count": 7,
      "metadata": {
        "autoscroll": "auto"
      },
      "outputs": [],
      "source": "%pyspark\nhistorical_dob_distinct_building_cnt.filter(historical_dob_distinct_building_cnt[\u0027count\u0027] \u003e 1).show()"
    },
    {
      "cell_type": "code",
      "execution_count": 8,
      "metadata": {
        "autoscroll": "auto"
      },
      "outputs": [],
      "source": "%pyspark\nhistorical_dob_distinct_building_df.filter(historical_dob_distinct_building_df[\u0027BIN\u0027] \u003d\u003d 1024757).show()"
    },
    {
      "cell_type": "code",
      "execution_count": 9,
      "metadata": {
        "autoscroll": "auto"
      },
      "outputs": [],
      "source": "%pyspark\nhousing_litigations_df.select(\u0027LitigationID\u0027, \u0027BuildingID\u0027, \u0027BIN\u0027, \u0027HouseNumber\u0027, \u0027StreetName\u0027, \u0027Zip\u0027, \u0027Boro\u0027, \u0027Latitude\u0027, \u0027Longitude\u0027).sample(False, 0.001, 11212).show(n\u003d200)\n"
    },
    {
      "cell_type": "code",
      "execution_count": 10,
      "metadata": {
        "autoscroll": "auto"
      },
      "outputs": [],
      "source": "%pyspark\nhousing_litigations_boro_df \u003d spark.sql(\"select LitigationID, BuildingID, BIN, HouseNumber, StreetName, Zip, case when Boro \u003d 1 then \u0027Manhattan\u0027 when Boro \u003d 2 then \u0027Bronx\u0027 when Boro \u003d 3 then \u0027Brooklyn\u0027 when Boro \u003d 4 then \u0027Queens\u0027 when Boro \u003d 5 then \u0027Staten Island\u0027 else Boro end as Borough, Latitude, Longitude from housing_litigations\")"
    },
    {
      "cell_type": "code",
      "execution_count": 11,
      "metadata": {
        "autoscroll": "auto"
      },
      "outputs": [],
      "source": "%pyspark\nhousing_litigations_boro_df.filter(housing_litigations_boro_df[\u0027Zip\u0027].isNull()).filter(housing_litigations_boro_df[\u0027Latitude\u0027].isNull()).count()"
    },
    {
      "cell_type": "code",
      "execution_count": 12,
      "metadata": {
        "autoscroll": "auto"
      },
      "outputs": [],
      "source": "%pyspark\nhousing_litigations_boro_df.select(\u0027LitigationID\u0027, \u0027BuildingID\u0027, \u0027BIN\u0027, \u0027HouseNumber\u0027, \u0027StreetName\u0027, \u0027Zip\u0027, \u0027Borough\u0027, \u0027Latitude\u0027, \u0027Longitude\u0027).sample(False, 0.001, 21236236).show(n\u003d200)"
    },
    {
      "cell_type": "code",
      "execution_count": 13,
      "metadata": {
        "autoscroll": "auto"
      },
      "outputs": [],
      "source": "%pyspark\nhousing_litigations_boro_df.filter(housing_litigations_boro_df[\u0027Zip\u0027] \u003d\u003d 10463).show()"
    },
    {
      "cell_type": "code",
      "execution_count": 14,
      "metadata": {
        "autoscroll": "auto"
      },
      "outputs": [],
      "source": "%pyspark\nhousing_maintenance_code_violations_df.filter(housing_maintenance_code_violations_df[\u0027Postcode\u0027].isNull()).filter(housing_maintenance_code_violations_df[\u0027Latitude\u0027].isNull()).count()"
    },
    {
      "cell_type": "code",
      "execution_count": 15,
      "metadata": {
        "autoscroll": "auto"
      },
      "outputs": [],
      "source": "%pyspark\nhousing_maintenance_code_violations_sample \u003d housing_maintenance_code_violations_df.sample(False, 0.1, 11212)\nhousing_maintenance_code_violations_sample.count()"
    },
    {
      "cell_type": "code",
      "execution_count": 16,
      "metadata": {
        "autoscroll": "auto"
      },
      "outputs": [],
      "source": "%pyspark\nhousing_maintenance_code_violations_sample.select(\u0027ViolationID\u0027, \u0027BuildingID\u0027, \u0027BIN\u0027, \u0027HouseNumber\u0027, \u0027LowHouseNumber\u0027, \u0027HighHouseNumber\u0027, \u0027StreetName\u0027, \u0027Postcode\u0027, \u0027Borough\u0027, \u0027Latitude\u0027, \u0027Longitude\u0027)\\\n.filter(housing_maintenance_code_violations_sample[\u0027Postcode\u0027] \u003d\u003d 10463)\\\n.filter(housing_maintenance_code_violations_sample[\u0027Borough\u0027] !\u003d \u0027BRONX\u0027)\\\n.show()"
    },
    {
      "cell_type": "code",
      "execution_count": 17,
      "metadata": {
        "autoscroll": "auto"
      },
      "outputs": [],
      "source": "%pyspark\nhousing_maintenance_code_violations_sample.filter(housing_maintenance_code_violations_sample[\u0027Postcode\u0027].isNull()).select(\u0027ViolationID\u0027, \u0027BuildingID\u0027, \u0027BIN\u0027, \u0027HouseNumber\u0027, \u0027LowHouseNumber\u0027, \u0027HighHouseNumber\u0027, \u0027StreetName\u0027, \u0027Postcode\u0027, \u0027Borough\u0027, \u0027Latitude\u0027, \u0027Longitude\u0027).show()"
    },
    {
      "cell_type": "code",
      "execution_count": 18,
      "metadata": {
        "autoscroll": "auto"
      },
      "outputs": [],
      "source": "%pyspark\nhousing_maintenance_code_violations_sample.filter(housing_maintenance_code_violations_df[\u0027StreetName\u0027] \u003d\u003d \u0027109-55 VAN WYCK EXPRESSWAY\u0027).select(\u0027ViolationID\u0027, \u0027BuildingID\u0027, \u0027BIN\u0027, \u0027HouseNumber\u0027, \u0027LowHouseNumber\u0027, \u0027HighHouseNumber\u0027, \u0027StreetName\u0027, \u0027Postcode\u0027, \u0027Borough\u0027, \u0027Latitude\u0027, \u0027Longitude\u0027).show()"
    },
    {
      "cell_type": "code",
      "execution_count": 19,
      "metadata": {
        "autoscroll": "auto"
      },
      "outputs": [],
      "source": "%pyspark\nhousing_maintenance_code_violations_sample.select(\u0027StreetName\u0027).distinct().count()"
    },
    {
      "cell_type": "code",
      "execution_count": 20,
      "metadata": {
        "autoscroll": "auto"
      },
      "outputs": [],
      "source": "%sh\n/usr/bin/hadoop fs -rm -r housing_maintenance_code_violations_sample.csv"
    },
    {
      "cell_type": "code",
      "execution_count": 21,
      "metadata": {
        "autoscroll": "auto"
      },
      "outputs": [],
      "source": "%pyspark\nhousing_maintenance_code_violations_sample.write.option(\"header\", True).csv(\u0027./housing_maintenance_code_violations_sample.csv\u0027)"
    },
    {
      "cell_type": "code",
      "execution_count": 22,
      "metadata": {
        "autoscroll": "auto"
      },
      "outputs": [],
      "source": "%sh\nrm housing_maintenance_code_violations_sample.csv\n"
    },
    {
      "cell_type": "code",
      "execution_count": 23,
      "metadata": {
        "autoscroll": "auto"
      },
      "outputs": [],
      "source": "%sh\n/usr/bin/hadoop fs -getmerge housing_maintenance_code_violations_sample.csv housing_maintenance_code_violations_sample.csv"
    },
    {
      "cell_type": "code",
      "execution_count": 24,
      "metadata": {
        "autoscroll": "auto"
      },
      "outputs": [],
      "source": "%python\nfrom openclean.pipeline import stream\nfrom openclean.function.eval.base import Col\nfrom openclean.function.eval.logic import And\nfrom openclean.function.eval.null import IsNotEmpty, IsEmpty\nfrom openclean.operator.map.violations import fd_violations\nfrom openclean.cluster.key import key_collision\nfrom openclean_geo.address.usstreet import USStreetNameKey\n\ndef lat_long_boro_fd(ds, latCol, longCol, boroCol):\n    data \u003d ds.select([boroCol, latCol, longCol]).where(And(IsNotEmpty(latCol), IsNotEmpty(longCol), IsNotEmpty(boroCol))).update(boroCol, str.upper)\n    df \u003d data\\\n        .select([boroCol, latCol, longCol])\\\n        .to_df()\n\n    groups \u003d fd_violations(df, lhs\u003d[latCol, longCol], rhs\u003dboroCol)\n    return groups\n    \ndef cleanstreet(street,ds_full): \n    streets \u003d ds_full.select(street).distinct()\n    clusters \u003d key_collision(func\u003dUSStreetNameKey(), values\u003dstreets, minsize\u003d2, threads\u003d4)\n    group_mapping \u003d dict()\n    def print_cluster(cnumber, cluster):\n        for val, count in cluster.items():\n            group_mapping[val]\u003dcluster.suggestion()\n    clusters.sort(key\u003dlambda c: len(c), reverse\u003dTrue)\n    for i in range(len(clusters)):\n        print_cluster(i + 1, clusters[i])\n    return ds_full.update(street,lambda x: group_mapping[x] if x in group_mapping else x)"
    },
    {
      "cell_type": "code",
      "execution_count": 25,
      "metadata": {
        "autoscroll": "auto"
      },
      "outputs": [],
      "source": "%python\nhousing_maintenance_code_violations_sample_ds \u003d stream(\u0027./housing_maintenance_code_violations_sample.csv\u0027)"
    },
    {
      "cell_type": "code",
      "execution_count": 26,
      "metadata": {
        "autoscroll": "auto"
      },
      "outputs": [],
      "source": "%python\nhousing_maintenance_code_violations_sample_ds.where(Col(\u0027StreetName\u0027) \u003d\u003d \u002727TH STREET\u0027).select([\u0027HouseNumber\u0027, \u0027StreetName\u0027, \u0027Postcode\u0027]).head()"
    },
    {
      "cell_type": "code",
      "execution_count": 27,
      "metadata": {
        "autoscroll": "auto"
      },
      "outputs": [],
      "source": "%python\ncleaned \u003d cleanstreet(\u0027StreetName\u0027, housing_maintenance_code_violations_sample_ds)"
    },
    {
      "cell_type": "code",
      "execution_count": 28,
      "metadata": {
        "autoscroll": "auto"
      },
      "outputs": [],
      "source": "%python\ncleaned.where(IsEmpty(\u0027Postcode\u0027)).count()"
    },
    {
      "cell_type": "code",
      "execution_count": 29,
      "metadata": {
        "autoscroll": "auto"
      },
      "outputs": [],
      "source": "%python\ncleaned.where(IsEmpty(\u0027Postcode\u0027)).select([\u0027ViolationID\u0027, \u0027BIN\u0027, \u0027HouseNumber\u0027, \u0027StreetName\u0027, \u0027Postcode\u0027, \u0027Borough\u0027]).head()"
    },
    {
      "cell_type": "code",
      "execution_count": 30,
      "metadata": {
        "autoscroll": "auto"
      },
      "outputs": [],
      "source": "%python\ndata \u003d cleaned.select([\u0027Borough\u0027, \u0027HouseNumber\u0027, \u0027StreetName\u0027, \u0027Postcode\u0027]).where(And(IsNotEmpty(\u0027Borough\u0027), IsNotEmpty(\u0027HouseNumber\u0027), IsNotEmpty(\u0027StreetName\u0027))).update(\u0027StreetName\u0027, str.upper).update(\u0027Borough\u0027, str.upper)\ndf \u003d data\\\n    .select([\u0027Borough\u0027, \u0027HouseNumber\u0027, \u0027StreetName\u0027, \u0027Postcode\u0027])\\\n    .to_df()\n\ngroups \u003d fd_violations(df, lhs\u003d[\u0027Borough\u0027, \u0027HouseNumber\u0027, \u0027StreetName\u0027], rhs\u003d\u0027Postcode\u0027)\n"
    },
    {
      "cell_type": "code",
      "execution_count": 31,
      "metadata": {
        "autoscroll": "auto"
      },
      "outputs": [],
      "source": "%python\nfor key in list(groups.keys())[:10]:\n    print(groups.values(key\u003dkey, columns\u003d\u0027Postcode\u0027))\n    print(\u0027\\n\u0027)"
    },
    {
      "cell_type": "code",
      "execution_count": 32,
      "metadata": {
        "autoscroll": "auto"
      },
      "outputs": [],
      "source": "%python\ngroup_mapping \u003d dict()\nfor key in groups.keys():\n    values \u003d groups.values(key\u003dkey, columns\u003d\u0027Postcode\u0027)\n    max\u003d0\n    maxValue\u003d\"\"\n    for v in values:\n        if v is None or len(v) \u003d\u003d 0:\n            continue\n        if max\u003cvalues[v]:\n            max\u003dvalues[v]\n            maxValue\u003dv\n    group_mapping[key] \u003d maxValue"
    },
    {
      "cell_type": "code",
      "execution_count": 33,
      "metadata": {
        "autoscroll": "auto"
      },
      "outputs": [],
      "source": "%python\nfor key in list(group_mapping.keys())[:10]:\n    print(\u0027{} \u003d {}\u0027.format(key, group_mapping[key]))"
    },
    {
      "cell_type": "code",
      "execution_count": 34,
      "metadata": {
        "autoscroll": "auto"
      },
      "outputs": [],
      "source": "%python\nfrom openclean.function.eval.domain import Lookup\n\ncleaned2 \u003d cleaned.where(IsEmpty(\u0027Postcode\u0027)).update(\u0027Postcode\u0027, Lookup(columns\u003d[\u0027Borough\u0027, \u0027HouseNumber\u0027, \u0027StreetName\u0027], mapping\u003dgroup_mapping, default\u003dCol(\u0027Postcode\u0027)))"
    },
    {
      "cell_type": "code",
      "execution_count": 35,
      "metadata": {
        "autoscroll": "auto"
      },
      "outputs": [],
      "source": "%python\ncleaned2.where(IsEmpty(\u0027Postcode\u0027)).count()"
    },
    {
      "cell_type": "code",
      "execution_count": 36,
      "metadata": {
        "autoscroll": "auto"
      },
      "outputs": [],
      "source": "%python\ncleaned2.where(IsEmpty(\u0027Postcode\u0027)).select([\u0027ViolationID\u0027, \u0027BIN\u0027, \u0027HouseNumber\u0027, \u0027StreetName\u0027, \u0027Postcode\u0027, \u0027Borough\u0027, \u0027Latitude\u0027, \u0027Longitude\u0027]).head(100)"
    },
    {
      "cell_type": "code",
      "execution_count": 37,
      "metadata": {
        "autoscroll": "auto"
      },
      "outputs": [],
      "source": "%python\ncleaned.where(And(Col(\u0027HouseNumber\u0027) \u003d\u003d \u0027532\u0027, Col(\u0027StreetName\u0027) \u003d\u003d \u0027EAST 142 STREET\u0027, IsNotEmpty(\u0027Postcode\u0027))).select([\u0027HouseNumber\u0027, \u0027StreetName\u0027, \u0027Postcode\u0027, \u0027Borough\u0027, \u0027BIN\u0027]).head()"
    },
    {
      "cell_type": "code",
      "execution_count": 38,
      "metadata": {
        "autoscroll": "auto"
      },
      "outputs": [],
      "source": "%python\ncleaned.where(Col(\u0027StreetName\u0027) \u003d\u003d \u0027VAN WYCK EXPRESSWAY\u0027).select([\u0027HouseNumber\u0027, \u0027StreetName\u0027, \u0027Postcode\u0027, \u0027Borough\u0027]).head(40)"
    },
    {
      "cell_type": "code",
      "execution_count": 39,
      "metadata": {
        "autoscroll": "auto"
      },
      "outputs": [],
      "source": "%pyspark\nhousing_maintenance_code_violations_df.select(\u0027ViolationID\u0027, \u0027BuildingID\u0027, \u0027BIN\u0027, \u0027HouseNumber\u0027, \u0027LowHouseNumber\u0027, \u0027HighHouseNumber\u0027, \u0027StreetName\u0027, \u0027Postcode\u0027, \u0027Borough\u0027, \u0027Latitude\u0027, \u0027Longitude\u0027)\\\n.filter(housing_maintenance_code_violations_df[\u0027Postcode\u0027] \u003d\u003d 11232)\\\n.filter(housing_maintenance_code_violations_df[\u0027Borough\u0027] !\u003d \u0027BROOKLYN\u0027)\\\n.show()"
    },
    {
      "cell_type": "code",
      "execution_count": 40,
      "metadata": {
        "autoscroll": "auto"
      },
      "outputs": [],
      "source": "%pyspark\n\nhousing_maintenance_code_violations_df.select(\u0027ViolationID\u0027, \u0027BuildingID\u0027, \u0027BIN\u0027, \u0027HouseNumber\u0027, \u0027LowHouseNumber\u0027, \u0027HighHouseNumber\u0027, \u0027StreetName\u0027, \u0027Postcode\u0027, \u0027Borough\u0027, \u0027Latitude\u0027, \u0027Longitude\u0027).filter(housing_maintenance_code_violations_df[\u0027Longitude\u0027].isNull()).filter(housing_maintenance_code_violations_df[\u0027BuildingID\u0027] !\u003d 1).show(n\u003d600)"
    },
    {
      "cell_type": "code",
      "execution_count": 41,
      "metadata": {
        "autoscroll": "auto"
      },
      "outputs": [],
      "source": "%pyspark\nhousing_maintenance_code_violations_df.filter(housing_maintenance_code_violations_df[\u0027StreetName\u0027] \u003d\u003d \u002772 STREET\u0027).select(\u0027ViolationID\u0027, \u0027BuildingID\u0027, \u0027BIN\u0027, \u0027HouseNumber\u0027, \u0027LowHouseNumber\u0027, \u0027HighHouseNumber\u0027, \u0027StreetName\u0027, \u0027Postcode\u0027, \u0027Borough\u0027, \u0027Latitude\u0027, \u0027Longitude\u0027).show()"
    },
    {
      "cell_type": "code",
      "execution_count": 42,
      "metadata": {
        "autoscroll": "auto"
      },
      "outputs": [],
      "source": "%pyspark\nhousing_maintenance_code_violations_df.filter(housing_maintenance_code_violations_df[\u0027BuildingID\u0027] \u003d\u003d 1).select(\u0027ViolationID\u0027, \u0027BuildingID\u0027, \u0027BIN\u0027, \u0027HouseNumber\u0027, \u0027LowHouseNumber\u0027, \u0027HighHouseNumber\u0027, \u0027StreetName\u0027, \u0027Postcode\u0027, \u0027Borough\u0027, \u0027Latitude\u0027, \u0027Longitude\u0027).show()"
    }
  ]
}